{
  "nbformat": 4,
  "nbformat_minor": 0,
  "metadata": {
    "colab": {
      "provenance": []
    },
    "kernelspec": {
      "name": "python3",
      "display_name": "Python 3"
    },
    "language_info": {
      "name": "python"
    }
  },
  "cells": [
    {
      "cell_type": "code",
      "source": [
        "from scipy import stats\n",
        "from scipy.stats import norm \n"
      ],
      "metadata": {
        "id": "_GU2zF9Loze4"
      },
      "execution_count": 9,
      "outputs": []
    },
    {
      "cell_type": "code",
      "source": [
        "# Assume Null Hypothesis is: Ho = Avg life of Bulb >= 260 days\n",
        "# Alternate Hypothesis is: Ha = Avg life of Bulb < 260 days\n",
        "# find t-scores at x=260; t=(s_mean-P_mean)/(s_SD/sqrt(n))\n",
        "\n",
        "t=(260-270)/(90/18**0.5)\n",
        "t\n"
      ],
      "metadata": {
        "id": "zCWxtKqzrIxh",
        "outputId": "259d2b3b-872c-4d09-d839-f7599ed7e130",
        "colab": {
          "base_uri": "https://localhost:8080/"
        }
      },
      "execution_count": 11,
      "outputs": [
        {
          "output_type": "execute_result",
          "data": {
            "text/plain": [
              "-0.4714045207910317"
            ]
          },
          "metadata": {},
          "execution_count": 11
        }
      ]
    },
    {
      "cell_type": "code",
      "source": [
        "# Find P(X>=260) for null hypothesis\n",
        "# p_value=1-stats.t.cdf(abs(t_scores),df=n-1)... Using cdf function\n",
        "\n",
        "p_value=1-stats.t.cdf(abs(-0.4714),df=17)\n",
        "p_value\n"
      ],
      "metadata": {
        "id": "X5tKvPuhrOy0",
        "outputId": "5aac4c4a-0b6b-4deb-ce89-97797324e3c4",
        "colab": {
          "base_uri": "https://localhost:8080/"
        }
      },
      "execution_count": 12,
      "outputs": [
        {
          "output_type": "execute_result",
          "data": {
            "text/plain": [
              "0.32167411684460556"
            ]
          },
          "metadata": {},
          "execution_count": 12
        }
      ]
    },
    {
      "cell_type": "code",
      "source": [],
      "metadata": {
        "id": "Q8WPrFAPrSBr"
      },
      "execution_count": null,
      "outputs": []
    }
  ]
}