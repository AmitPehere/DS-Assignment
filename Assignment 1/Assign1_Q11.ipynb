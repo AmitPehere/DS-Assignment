{
  "nbformat": 4,
  "nbformat_minor": 0,
  "metadata": {
    "colab": {
      "provenance": []
    },
    "kernelspec": {
      "name": "python3",
      "display_name": "Python 3"
    },
    "language_info": {
      "name": "python"
    }
  },
  "cells": [
    {
      "cell_type": "code",
      "execution_count": 1,
      "metadata": {
        "id": "lMKwK9OplIzk"
      },
      "outputs": [],
      "source": [
        "import numpy as np\n",
        "import pandas as pd\n",
        "from scipy import stats\n",
        "from scipy.stats import norm"
      ]
    },
    {
      "cell_type": "code",
      "source": [
        "#for 94%\n",
        "conf_94=stats.norm.interval(alpha=0.94,loc=200,scale=30/np.sqrt(2000))\n",
        "print(np.round(conf_94,0))\n",
        "print(conf_94)\n"
      ],
      "metadata": {
        "colab": {
          "base_uri": "https://localhost:8080/"
        },
        "id": "FVzzT_0jlQan",
        "outputId": "dd7a8929-c5b8-4ce7-80aa-1de4801c99b3"
      },
      "execution_count": 2,
      "outputs": [
        {
          "output_type": "stream",
          "name": "stdout",
          "text": [
            "[199. 201.]\n",
            "(198.738325292158, 201.261674707842)\n"
          ]
        }
      ]
    },
    {
      "cell_type": "code",
      "source": [
        "#for 98%\n",
        "conf_98=stats.norm.interval(alpha=0.98,loc=200,scale=30/np.sqrt(2000))\n",
        "print(np.round(conf_98,0))\n",
        "print(conf_98)\n"
      ],
      "metadata": {
        "colab": {
          "base_uri": "https://localhost:8080/"
        },
        "id": "s2vetUW9lbNG",
        "outputId": "3f1b3b80-0e02-4b39-8cfd-b0cf408202d2"
      },
      "execution_count": 3,
      "outputs": [
        {
          "output_type": "stream",
          "name": "stdout",
          "text": [
            "[198. 202.]\n",
            "(198.43943840429978, 201.56056159570022)\n"
          ]
        }
      ]
    },
    {
      "cell_type": "code",
      "source": [
        "#for 96%\n",
        "conf_96=stats.norm.interval(alpha=0.96,loc=200,scale=30/np.sqrt(2000))\n",
        "print(np.round(conf_96,0))\n",
        "print(conf_96)\n"
      ],
      "metadata": {
        "colab": {
          "base_uri": "https://localhost:8080/"
        },
        "id": "_UK6H4zrlh_L",
        "outputId": "c87c0393-85f5-4862-a8c8-7700d68fe4cb"
      },
      "execution_count": 4,
      "outputs": [
        {
          "output_type": "stream",
          "name": "stdout",
          "text": [
            "[199. 201.]\n",
            "(198.62230334813333, 201.37769665186667)\n"
          ]
        }
      ]
    }
  ]
}