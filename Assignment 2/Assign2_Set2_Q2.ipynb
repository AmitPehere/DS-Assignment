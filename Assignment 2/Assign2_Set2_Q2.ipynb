{
  "nbformat": 4,
  "nbformat_minor": 0,
  "metadata": {
    "colab": {
      "provenance": []
    },
    "kernelspec": {
      "name": "python3",
      "display_name": "Python 3"
    },
    "language_info": {
      "name": "python"
    }
  },
  "cells": [
    {
      "cell_type": "code",
      "execution_count": 29,
      "metadata": {
        "id": "q3a-ZGxbpX6y"
      },
      "outputs": [],
      "source": [
        "from scipy import stats\n",
        "from scipy.stats import norm"
      ]
    },
    {
      "cell_type": "code",
      "source": [
        "# A. More employees at the processing center are older than 44 than between 38 and 44.\n",
        "# p(X>44); Employees older than 44 yrs of age\n",
        "1-stats.norm.cdf(44,loc=38,scale=6)"
      ],
      "metadata": {
        "colab": {
          "base_uri": "https://localhost:8080/"
        },
        "id": "NiNdA1cyxUWf",
        "outputId": "e03bd1c7-717e-419f-869c-55d0f8b54489"
      },
      "execution_count": 30,
      "outputs": [
        {
          "output_type": "execute_result",
          "data": {
            "text/plain": [
              "0.15865525393145707"
            ]
          },
          "metadata": {},
          "execution_count": 30
        }
      ]
    },
    {
      "cell_type": "code",
      "source": [
        "# p(38<X<44); Employees between 38 to 44 yrs of age\n",
        "stats.norm.cdf(44,38,6)-stats.norm.cdf(38,38,6)"
      ],
      "metadata": {
        "colab": {
          "base_uri": "https://localhost:8080/"
        },
        "id": "VLP6qqY0xYME",
        "outputId": "b712ab81-1498-47ac-92e0-b5126241318b"
      },
      "execution_count": 31,
      "outputs": [
        {
          "output_type": "execute_result",
          "data": {
            "text/plain": [
              "0.3413447460685429"
            ]
          },
          "metadata": {},
          "execution_count": 31
        }
      ]
    },
    {
      "cell_type": "code",
      "source": [],
      "metadata": {
        "id": "F4kVwjJ4xfzn"
      },
      "execution_count": null,
      "outputs": []
    }
  ]
}