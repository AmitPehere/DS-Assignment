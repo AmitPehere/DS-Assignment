{
  "nbformat": 4,
  "nbformat_minor": 0,
  "metadata": {
    "colab": {
      "provenance": []
    },
    "kernelspec": {
      "name": "python3",
      "display_name": "Python 3"
    },
    "language_info": {
      "name": "python"
    }
  },
  "cells": [
    {
      "cell_type": "code",
      "source": [
        "from scipy import stats\n",
        "from scipy.stats import norm"
      ],
      "metadata": {
        "id": "F4kVwjJ4xfzn"
      },
      "execution_count": 32,
      "outputs": []
    },
    {
      "cell_type": "code",
      "source": [
        "stats.norm.interval(0.99,100,20)\n"
      ],
      "metadata": {
        "colab": {
          "base_uri": "https://localhost:8080/"
        },
        "id": "N6BtIG6azgtl",
        "outputId": "9d674da9-9030-44f8-f480-f1b15b364dc2"
      },
      "execution_count": 33,
      "outputs": [
        {
          "output_type": "execute_result",
          "data": {
            "text/plain": [
              "(48.48341392902199, 151.516586070978)"
            ]
          },
          "metadata": {},
          "execution_count": 33
        }
      ]
    },
    {
      "cell_type": "code",
      "source": [],
      "metadata": {
        "id": "lbGfHhERzjDJ"
      },
      "execution_count": null,
      "outputs": []
    }
  ]
}